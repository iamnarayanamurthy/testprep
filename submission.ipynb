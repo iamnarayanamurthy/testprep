{
    "cells": [
        {
            "metadata": {
                "collapsed": true
            },
            "cell_type": "markdown",
            "source": "# My Jupyter Notebook on IBM Watson Studio"
        },
        {
            "metadata": {},
            "cell_type": "markdown",
            "source": "###### Narayanamurthy PS\nstudent\n"
        },
        {
            "metadata": {},
            "cell_type": "markdown",
            "source": " _string_ or *I am interested in data science because ... because i like to derive insights from data and to make predictions for future*"
        },
        {
            "metadata": {},
            "cell_type": "markdown",
            "source": "### dispaly sum of two numbers"
        },
        {
            "metadata": {},
            "cell_type": "code",
            "source": "print(1+5)",
            "execution_count": 3,
            "outputs": [
                {
                    "output_type": "stream",
                    "text": "6\n",
                    "name": "stdout"
                }
            ]
        },
        {
            "metadata": {},
            "cell_type": "code",
            "source": "    - iamone\n    - iamone\n    - iamone\n    - iamone\n    - iamone\n    - iamone\n    - iamone\n\n",
            "execution_count": 9,
            "outputs": [
                {
                    "output_type": "error",
                    "ename": "NameError",
                    "evalue": "name 'iamone' is not defined",
                    "traceback": [
                        "\u001b[0;31m---------------------------------------------------------------------------\u001b[0m",
                        "\u001b[0;31mNameError\u001b[0m                                 Traceback (most recent call last)",
                        "Input \u001b[0;32mIn [9]\u001b[0m, in \u001b[0;36m<cell line: 1>\u001b[0;34m()\u001b[0m\n\u001b[0;32m----> 1\u001b[0m \u001b[38;5;241m-\u001b[39m \u001b[43miamone\u001b[49m\n\u001b[1;32m      2\u001b[0m \u001b[38;5;241m-\u001b[39m iamone\n\u001b[1;32m      3\u001b[0m \u001b[38;5;241m-\u001b[39m iamone\n",
                        "\u001b[0;31mNameError\u001b[0m: name 'iamone' is not defined"
                    ]
                }
            ]
        },
        {
            "metadata": {},
            "cell_type": "code",
            "source": "",
            "execution_count": null,
            "outputs": []
        }
    ],
    "metadata": {
        "kernelspec": {
            "name": "python3",
            "display_name": "Python 3.10",
            "language": "python"
        },
        "language_info": {
            "name": "python",
            "version": "3.10.6",
            "mimetype": "text/x-python",
            "codemirror_mode": {
                "name": "ipython",
                "version": 3
            },
            "pygments_lexer": "ipython3",
            "nbconvert_exporter": "python",
            "file_extension": ".py"
        }
    },
    "nbformat": 4,
    "nbformat_minor": 1
}