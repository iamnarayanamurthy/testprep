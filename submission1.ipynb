{
    "cells": [
        {
            "metadata": {
                "collapsed": true
            },
            "cell_type": "markdown",
            "source": "# My Jupyter Notebook on IBM Watson Studio"
        },
        {
            "metadata": {},
            "cell_type": "markdown",
            "source": "###### Narayanamurthy PS\nstudent\n"
        },
        {
            "metadata": {},
            "cell_type": "markdown",
            "source": " _string_ or *I am interested in data science because ... because i like to derive insights from data and to make predictions for future*"
        },
        {
            "metadata": {},
            "cell_type": "markdown",
            "source": "### dispaly sum of two numbers"
        },
        {
            "metadata": {},
            "cell_type": "code",
            "source": "print(1+5)",
            "execution_count": 3,
            "outputs": [
                {
                    "output_type": "stream",
                    "text": "6\n",
                    "name": "stdout"
                }
            ]
        },
        {
            "metadata": {},
            "cell_type": "markdown",
            "source": "- iamone\n- iamone\n- iamone\n- iamone\n- iamone\n- iamone\n- iamone\n\n"
        },
        {
            "metadata": {},
            "cell_type": "markdown",
            "source": ""
        }
    ],
    "metadata": {
        "kernelspec": {
            "name": "python3",
            "display_name": "Python 3.10",
            "language": "python"
        },
        "language_info": {
            "name": "python",
            "version": "3.10.6",
            "mimetype": "text/x-python",
            "codemirror_mode": {
                "name": "ipython",
                "version": 3
            },
            "pygments_lexer": "ipython3",
            "nbconvert_exporter": "python",
            "file_extension": ".py"
        }
    },
    "nbformat": 4,
    "nbformat_minor": 1
}